{
 "cells": [
  {
   "cell_type": "code",
   "execution_count": null,
   "metadata": {},
   "outputs": [],
   "source": [
    "while True :\n",
    "    print(\"value is true\")"
   ]
  },
  {
   "cell_type": "code",
   "execution_count": 9,
   "metadata": {},
   "outputs": [
    {
     "name": "stdout",
     "output_type": "stream",
     "text": [
      "hello 1\n",
      "hello 2\n",
      "hello 3\n",
      "hello 4\n",
      "hello 5\n",
      "6\n"
     ]
    }
   ],
   "source": [
    "count = 1    ## iterator\n",
    "while count <=5: ## iteration\n",
    "    print(\"hello\", count)\n",
    "    count+=1\n",
    "print(count)"
   ]
  },
  {
   "cell_type": "code",
   "execution_count": 12,
   "metadata": {},
   "outputs": [
    {
     "name": "stdout",
     "output_type": "stream",
     "text": [
      "counting 1\n",
      "counting 2\n",
      "counting 3\n",
      "counting 4\n",
      "counting 5\n",
      "Loop ended here 6\n"
     ]
    }
   ],
   "source": [
    "## print numbers from 1 to 5 \n",
    "\n",
    "i = 1\n",
    "while i <=5:\n",
    "    print(\"counting\", i)\n",
    "    i +=1\n",
    "print(\"Loop ended here\", i)"
   ]
  },
  {
   "cell_type": "code",
   "execution_count": 13,
   "metadata": {},
   "outputs": [
    {
     "name": "stdout",
     "output_type": "stream",
     "text": [
      "5\n",
      "4\n",
      "3\n",
      "2\n",
      "1\n",
      "0\n"
     ]
    }
   ],
   "source": [
    "i = 5\n",
    "while i >=1:\n",
    "    print(i)\n",
    "    i -=1\n",
    "print(i)"
   ]
  },
  {
   "cell_type": "code",
   "execution_count": null,
   "metadata": {},
   "outputs": [],
   "source": [
    "## infinite  loop, this is not going to help us no where.\n",
    "i = 5\n",
    "while i >=6:\n",
    "    print(i)\n",
    "    i -=1\n",
    "print(i)"
   ]
  },
  {
   "cell_type": "code",
   "execution_count": 16,
   "metadata": {},
   "outputs": [
    {
     "name": "stdout",
     "output_type": "stream",
     "text": [
      "Here is the output 1\n",
      "Here is the output 2\n",
      "Here is the output 3\n",
      "Here is the output 4\n",
      "Here is the output 5\n",
      "Here is the output 6\n",
      "Here is the output 7\n",
      "Here is the output 8\n",
      "Here is the output 9\n",
      "Here is the output 10\n",
      "Here is the output 11\n",
      "Here is the output 12\n",
      "Here is the output 13\n",
      "Here is the output 14\n",
      "Here is the output 15\n",
      "Here is the output 16\n",
      "Here is the output 17\n",
      "Here is the output 18\n",
      "Here is the output 19\n",
      "Here is the output 20\n",
      "Here is the output 21\n",
      "Here is the output 22\n",
      "Here is the output 23\n",
      "Here is the output 24\n",
      "Here is the output 25\n",
      "Here is the output 26\n",
      "Here is the output 27\n",
      "Here is the output 28\n",
      "Here is the output 29\n",
      "Here is the output 30\n",
      "Here is the output 31\n",
      "Here is the output 32\n",
      "Here is the output 33\n",
      "Here is the output 34\n",
      "Here is the output 35\n",
      "Here is the output 36\n",
      "Here is the output 37\n",
      "Here is the output 38\n",
      "Here is the output 39\n",
      "Here is the output 40\n",
      "Here is the output 41\n",
      "Here is the output 42\n",
      "Here is the output 43\n",
      "Here is the output 44\n",
      "Here is the output 45\n",
      "Here is the output 46\n",
      "Here is the output 47\n",
      "Here is the output 48\n",
      "Here is the output 49\n",
      "Here is the output 50\n",
      "Here is the output 51\n",
      "Here is the output 52\n",
      "Here is the output 53\n",
      "Here is the output 54\n",
      "Here is the output 55\n",
      "Here is the output 56\n",
      "Here is the output 57\n",
      "Here is the output 58\n",
      "Here is the output 59\n",
      "Here is the output 60\n",
      "Here is the output 61\n",
      "Here is the output 62\n",
      "Here is the output 63\n",
      "Here is the output 64\n",
      "Here is the output 65\n",
      "Here is the output 66\n",
      "Here is the output 67\n",
      "Here is the output 68\n",
      "Here is the output 69\n",
      "Here is the output 70\n",
      "Here is the output 71\n",
      "Here is the output 72\n",
      "Here is the output 73\n",
      "Here is the output 74\n",
      "Here is the output 75\n",
      "Here is the output 76\n",
      "Here is the output 77\n",
      "Here is the output 78\n",
      "Here is the output 79\n",
      "Here is the output 80\n",
      "Here is the output 81\n",
      "Here is the output 82\n",
      "Here is the output 83\n",
      "Here is the output 84\n",
      "Here is the output 85\n",
      "Here is the output 86\n",
      "Here is the output 87\n",
      "Here is the output 88\n",
      "Here is the output 89\n",
      "Here is the output 90\n",
      "Here is the output 91\n",
      "Here is the output 92\n",
      "Here is the output 93\n",
      "Here is the output 94\n",
      "Here is the output 95\n",
      "Here is the output 96\n",
      "Here is the output 97\n",
      "Here is the output 98\n",
      "Here is the output 99\n",
      "Here is the output 100\n",
      "loop ended here 101\n"
     ]
    }
   ],
   "source": [
    "## print numbers from 1 to 100\n",
    "\n",
    "j = 1\n",
    "while j <=100:\n",
    "    print(\"Here is the output\", j)\n",
    "    j +=1\n",
    "print(\"loop ended here\", j)"
   ]
  },
  {
   "cell_type": "code",
   "execution_count": 17,
   "metadata": {},
   "outputs": [
    {
     "name": "stdout",
     "output_type": "stream",
     "text": [
      "100\n",
      "99\n",
      "98\n",
      "97\n",
      "96\n",
      "95\n",
      "94\n",
      "93\n",
      "92\n",
      "91\n",
      "90\n",
      "89\n",
      "88\n",
      "87\n",
      "86\n",
      "85\n",
      "84\n",
      "83\n",
      "82\n",
      "81\n",
      "80\n",
      "79\n",
      "78\n",
      "77\n",
      "76\n",
      "75\n",
      "74\n",
      "73\n",
      "72\n",
      "71\n",
      "70\n",
      "69\n",
      "68\n",
      "67\n",
      "66\n",
      "65\n",
      "64\n",
      "63\n",
      "62\n",
      "61\n",
      "60\n",
      "59\n",
      "58\n",
      "57\n",
      "56\n",
      "55\n",
      "54\n",
      "53\n",
      "52\n",
      "51\n",
      "50\n",
      "49\n",
      "48\n",
      "47\n",
      "46\n",
      "45\n",
      "44\n",
      "43\n",
      "42\n",
      "41\n",
      "40\n",
      "39\n",
      "38\n",
      "37\n",
      "36\n",
      "35\n",
      "34\n",
      "33\n",
      "32\n",
      "31\n",
      "30\n",
      "29\n",
      "28\n",
      "27\n",
      "26\n",
      "25\n",
      "24\n",
      "23\n",
      "22\n",
      "21\n",
      "20\n",
      "19\n",
      "18\n",
      "17\n",
      "16\n",
      "15\n",
      "14\n",
      "13\n",
      "12\n",
      "11\n",
      "10\n",
      "9\n",
      "8\n",
      "7\n",
      "6\n",
      "5\n",
      "4\n",
      "3\n",
      "2\n",
      "1\n",
      "0\n"
     ]
    }
   ],
   "source": [
    "## print numbers from 100 to 1\n",
    "\n",
    "k = 100\n",
    "while k >=1:\n",
    "    print(k)\n",
    "    k -=1\n",
    "print(k)"
   ]
  },
  {
   "cell_type": "code",
   "execution_count": null,
   "metadata": {},
   "outputs": [
    {
     "name": "stdout",
     "output_type": "stream",
     "text": [
      "3\n",
      "6\n",
      "9\n",
      "12\n",
      "15\n",
      "18\n",
      "21\n",
      "24\n",
      "27\n",
      "30\n"
     ]
    }
   ],
   "source": [
    "## print the multiplication table oa a number i\n",
    "\n",
    "i = 1\n",
    "while i <=10:\n",
    "    print(3*i)\n",
    "    i +=1"
   ]
  },
  {
   "cell_type": "code",
   "execution_count": 29,
   "metadata": {},
   "outputs": [
    {
     "name": "stdout",
     "output_type": "stream",
     "text": [
      "98\n",
      "196\n",
      "294\n",
      "392\n",
      "490\n",
      "588\n",
      "686\n",
      "784\n",
      "882\n",
      "980\n"
     ]
    }
   ],
   "source": [
    "## multiplication for any given value\n",
    "n = int(input(\"enter num : \"))\n",
    "i = 1\n",
    "while i <=10:\n",
    "    print(n*i)\n",
    "    i +=1"
   ]
  },
  {
   "cell_type": "code",
   "execution_count": 30,
   "metadata": {},
   "outputs": [
    {
     "name": "stdout",
     "output_type": "stream",
     "text": [
      "2 1 4 3 6 5 8 7 10 "
     ]
    }
   ],
   "source": [
    "# Initialize the counters for even and odd numbers\n",
    "even = 2\n",
    "odd = 1\n",
    "\n",
    "# Initialize the loop counter\n",
    "count = 0\n",
    "\n",
    "# Loop to print both even and odd numbers\n",
    "while count < 9:\n",
    "    # Check if count is even or odd to determine which number to print\n",
    "    if count % 2 == 0:\n",
    "        print(even, end=\" \")\n",
    "        even += 2\n",
    "    else:\n",
    "        print(odd, end=\" \")\n",
    "        odd += 2\n",
    "    \n",
    "    # Increment the loop counter\n",
    "    count += 1\n"
   ]
  },
  {
   "cell_type": "code",
   "execution_count": 34,
   "metadata": {},
   "outputs": [
    {
     "name": "stdout",
     "output_type": "stream",
     "text": [
      "10\n",
      "1\n",
      "4\n",
      "9\n",
      "16\n",
      "25\n",
      "36\n",
      "49\n",
      "64\n",
      "81\n",
      "100\n"
     ]
    }
   ],
   "source": [
    "## print the elements of the following list using a loop:\n",
    "num =  [1,4,9,16,25,36,49,64,81,100]\n",
    "print(len(num))\n",
    "\n",
    "idx = 0\n",
    "while idx < len(num):\n",
    "    print(num[idx])\n",
    "    idx += 1"
   ]
  },
  {
   "cell_type": "code",
   "execution_count": 38,
   "metadata": {},
   "outputs": [
    {
     "name": "stdout",
     "output_type": "stream",
     "text": [
      "finding...\n",
      "finding...\n",
      "finding...\n",
      "finding...\n",
      "finding...\n",
      "FOUND at idx 5\n"
     ]
    }
   ],
   "source": [
    "# search for a number x in this tuple using loop:\n",
    "\n",
    "num = (1,4,9,16,25,36,49,64,81,100)\n",
    "\n",
    "x  = 36\n",
    "i = 0 # initialization\n",
    "\n",
    "while i < len(num):\n",
    "    if(num[i] == x):\n",
    "        print(\"FOUND at idx\", i)\n",
    "        break\n",
    "    else:\n",
    "        print(\"finding...\")\n",
    "    i += 1"
   ]
  },
  {
   "cell_type": "code",
   "execution_count": 37,
   "metadata": {},
   "outputs": [
    {
     "name": "stdout",
     "output_type": "stream",
     "text": [
      "1\n",
      "2\n",
      "3\n",
      "end of loop\n"
     ]
    }
   ],
   "source": [
    "# break\n",
    "i = 1\n",
    "while i <= 5:\n",
    "    print(i)\n",
    "    if (i==3):\n",
    "        break\n",
    "    i +=1\n",
    "print(\"end of loop\")"
   ]
  },
  {
   "cell_type": "code",
   "execution_count": 39,
   "metadata": {},
   "outputs": [
    {
     "name": "stdout",
     "output_type": "stream",
     "text": [
      "0\n",
      "1\n",
      "2\n",
      "4\n",
      "5\n"
     ]
    }
   ],
   "source": [
    "## continue:\n",
    "## Terminates execution in the current iteration & continues execution of the loop with the next iteration.\n",
    "\n",
    "i = 0\n",
    "while i <=5:\n",
    "    if(i ==3):\n",
    "        i += 1\n",
    "        continue\n",
    "    print(i)\n",
    "    i +=1"
   ]
  },
  {
   "cell_type": "code",
   "execution_count": null,
   "metadata": {},
   "outputs": [
    {
     "name": "stdout",
     "output_type": "stream",
     "text": [
      "5\n",
      "1\n",
      "2\n",
      "3\n",
      "4\n",
      "5\n"
     ]
    }
   ],
   "source": [
    "# for loop \n",
    "# for loops are used for sequential traversal. For traversing list, string, tuples etc.\n",
    "\n",
    "nums = [1,2,3,4,5,]\n",
    "\n",
    "for val in nums:\n",
    "    print(val)"
   ]
  },
  {
   "cell_type": "code",
   "execution_count": null,
   "metadata": {},
   "outputs": [
    {
     "name": "stdout",
     "output_type": "stream",
     "text": [
      "brinjal\n",
      "potato\n",
      "ladyfinger\n"
     ]
    }
   ],
   "source": [
    "veggies = [\"brinjal\", \"potato\", \"ladyfinger\"]\n",
    "\n",
    "for el in veggies: # el is an variable\n",
    "    print(el)"
   ]
  },
  {
   "cell_type": "code",
   "execution_count": 44,
   "metadata": {},
   "outputs": [
    {
     "name": "stdout",
     "output_type": "stream",
     "text": [
      "1\n",
      "2\n",
      "3\n",
      "4\n",
      "2\n",
      "8\n",
      "9\n"
     ]
    }
   ],
   "source": [
    "# tuples\n",
    "tup = (1,2,3,4,2,8,9)\n",
    "\n",
    "for num in tup:\n",
    "    print(num)"
   ]
  },
  {
   "cell_type": "code",
   "execution_count": 45,
   "metadata": {},
   "outputs": [
    {
     "name": "stdout",
     "output_type": "stream",
     "text": [
      "k\n",
      "a\n",
      "l\n",
      "a\n",
      "-\n",
      "t\n",
      "e\n",
      "c\n",
      "h\n",
      "i\n",
      "e\n",
      "s\n",
      "END\n"
     ]
    }
   ],
   "source": [
    "# for loop with else, it's completely optional\n",
    "str = \"kala-techies\"\n",
    "\n",
    "for value in str:\n",
    "    print(value)\n",
    "else:\n",
    "    print(\"END\")\n"
   ]
  }
 ],
 "metadata": {
  "kernelspec": {
   "display_name": "Python 3",
   "language": "python",
   "name": "python3"
  },
  "language_info": {
   "codemirror_mode": {
    "name": "ipython",
    "version": 3
   },
   "file_extension": ".py",
   "mimetype": "text/x-python",
   "name": "python",
   "nbconvert_exporter": "python",
   "pygments_lexer": "ipython3",
   "version": "3.12.7"
  }
 },
 "nbformat": 4,
 "nbformat_minor": 2
}
