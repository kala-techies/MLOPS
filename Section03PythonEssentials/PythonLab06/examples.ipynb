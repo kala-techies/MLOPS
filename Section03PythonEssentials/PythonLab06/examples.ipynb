{
 "cells": [
  {
   "cell_type": "code",
   "execution_count": 1,
   "metadata": {},
   "outputs": [
    {
     "name": "stdout",
     "output_type": "stream",
     "text": [
      "sum of first 10 natural numbers: 55\n"
     ]
    }
   ],
   "source": [
    "## Calculate the sum of first N natural numbers using a while and for loop.\n",
    "\n",
    "## while loop\n",
    "\n",
    "n=10\n",
    "sum=0\n",
    "count=1\n",
    "\n",
    "while count <=n:\n",
    "    sum=sum+count\n",
    "    count=count+1\n",
    "print(\"sum of first 10 natural numbers:\", sum)"
   ]
  },
  {
   "cell_type": "code",
   "execution_count": 3,
   "metadata": {},
   "outputs": [
    {
     "name": "stdout",
     "output_type": "stream",
     "text": [
      "55\n"
     ]
    }
   ],
   "source": [
    "## for loop\n",
    "num =10\n",
    "sum=0\n",
    "for i in range(11):\n",
    "    sum=sum+i\n",
    "print(sum)"
   ]
  },
  {
   "cell_type": "code",
   "execution_count": null,
   "metadata": {},
   "outputs": [],
   "source": [
    "## Display the prime number between 1 and 100\n",
    "\n",
    "for num in range(1.100):\n",
    "    if num>1:\n",
    "        for i in range(2,num)\n",
    "            if num%i==0:\n",
    "                break\n",
    "        else:\n",
    "            print(num)\n",
    "        "
   ]
  },
  {
   "cell_type": "code",
   "execution_count": 2,
   "metadata": {},
   "outputs": [
    {
     "name": "stdout",
     "output_type": "stream",
     "text": [
      "1\n",
      "4\n",
      "9\n",
      "16\n",
      "25\n",
      "36\n",
      "49\n",
      "64\n",
      "81\n",
      "100\n"
     ]
    }
   ],
   "source": [
    "# Print the elements of the following list using a loop:\n",
    "# [1,4,9,16,25,36,49,64,81,100]\n",
    "lst = [1,4,9,16,25,36,49,64,81,100]\n",
    "\n",
    "for value in lst:\n",
    "    print(value)\n",
    "\n"
   ]
  },
  {
   "cell_type": "code",
   "execution_count": 5,
   "metadata": {},
   "outputs": [
    {
     "name": "stdout",
     "output_type": "stream",
     "text": [
      "found\n"
     ]
    }
   ],
   "source": [
    "#  Search for a number x in this tuple using loops:\n",
    "# [1,4,9,16,25,36,49,64,81,100]\n",
    "\n",
    "num = (1,4,9,16,25,36,49,64,81,100)\n",
    "x = 100\n",
    "for value in num:\n",
    "    if(value==x):\n",
    "        print(\"found\")\n"
   ]
  },
  {
   "cell_type": "code",
   "execution_count": 6,
   "metadata": {},
   "outputs": [
    {
     "name": "stdout",
     "output_type": "stream",
     "text": [
      "number found at idx 0\n",
      "number found at idx 10\n"
     ]
    }
   ],
   "source": [
    "## finding number along with index\n",
    "num = (100,1,4,9,16,25,36,49,64,81,100)\n",
    "x = 100\n",
    "idx = 0\n",
    "\n",
    "for value in num:\n",
    "    if(value==x):\n",
    "        print(\"number found at idx\", idx)\n",
    "    idx +=1"
   ]
  },
  {
   "cell_type": "code",
   "execution_count": null,
   "metadata": {},
   "outputs": [],
   "source": []
  }
 ],
 "metadata": {
  "kernelspec": {
   "display_name": "base",
   "language": "python",
   "name": "python3"
  },
  "language_info": {
   "codemirror_mode": {
    "name": "ipython",
    "version": 3
   },
   "file_extension": ".py",
   "mimetype": "text/x-python",
   "name": "python",
   "nbconvert_exporter": "python",
   "pygments_lexer": "ipython3",
   "version": "3.12.7"
  }
 },
 "nbformat": 4,
 "nbformat_minor": 2
}
