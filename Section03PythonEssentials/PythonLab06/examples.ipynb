{
 "cells": [
  {
   "cell_type": "code",
   "execution_count": 1,
   "metadata": {},
   "outputs": [
    {
     "name": "stdout",
     "output_type": "stream",
     "text": [
      "sum of first 10 natural numbers: 55\n"
     ]
    }
   ],
   "source": [
    "## Calculate the sum of first N natural numbers using a while and for loop.\n",
    "\n",
    "## while loop\n",
    "\n",
    "n=10\n",
    "sum=0\n",
    "count=1\n",
    "\n",
    "while count <=n:\n",
    "    sum=sum+count\n",
    "    count=count+1\n",
    "print(\"sum of first 10 natural numbers:\", sum)"
   ]
  },
  {
   "cell_type": "code",
   "execution_count": 3,
   "metadata": {},
   "outputs": [
    {
     "name": "stdout",
     "output_type": "stream",
     "text": [
      "55\n"
     ]
    }
   ],
   "source": [
    "## for loop\n",
    "num =10\n",
    "sum=0\n",
    "for i in range(11):\n",
    "    sum=sum+i\n",
    "print(sum)"
   ]
  },
  {
   "cell_type": "code",
   "execution_count": null,
   "metadata": {},
   "outputs": [],
   "source": [
    "## Display the prime number between 1 and 100\n",
    "\n",
    "for num in range(1.100):\n",
    "    if num>1:\n",
    "        for i in range(2,num)\n",
    "            if num%i==0:\n",
    "                break\n",
    "        else:\n",
    "            print(num)\n",
    "        "
   ]
  }
 ],
 "metadata": {
  "kernelspec": {
   "display_name": "base",
   "language": "python",
   "name": "python3"
  },
  "language_info": {
   "codemirror_mode": {
    "name": "ipython",
    "version": 3
   },
   "file_extension": ".py",
   "mimetype": "text/x-python",
   "name": "python",
   "nbconvert_exporter": "python",
   "pygments_lexer": "ipython3",
   "version": "3.12.7"
  }
 },
 "nbformat": 4,
 "nbformat_minor": 2
}
