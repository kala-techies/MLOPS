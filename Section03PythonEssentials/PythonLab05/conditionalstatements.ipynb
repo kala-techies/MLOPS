{
 "cells": [
  {
   "cell_type": "code",
   "execution_count": 1,
   "metadata": {},
   "outputs": [
    {
     "name": "stdout",
     "output_type": "stream",
     "text": [
      "you are eligible to vote in the election\n"
     ]
    }
   ],
   "source": [
    "## if condition \n",
    "\n",
    "age = 20\n",
    "\n",
    "if age>=18:\n",
    "    print(\"you are eligible to vote in the election\")"
   ]
  },
  {
   "cell_type": "code",
   "execution_count": 6,
   "metadata": {},
   "outputs": [
    {
     "name": "stdout",
     "output_type": "stream",
     "text": [
      "you are under age, hence not eligible to vote\n"
     ]
    }
   ],
   "source": [
    "## else\n",
    "\n",
    "age = 16\n",
    "\n",
    "if age>=18:\n",
    "    print(\"your are eligible for voting in election\")\n",
    "else: \n",
    "    print(\"you are under age, hence not eligible to vote\")"
   ]
  },
  {
   "cell_type": "code",
   "execution_count": 8,
   "metadata": {},
   "outputs": [
    {
     "name": "stdout",
     "output_type": "stream",
     "text": [
      "yor are an adult\n"
     ]
    }
   ],
   "source": [
    "## elif\n",
    "\n",
    "age = 20\n",
    "\n",
    "if age<=9:\n",
    "    print(\"you are a child\")\n",
    "elif age<=18:\n",
    "    print(\"you are a teenager\")\n",
    "else:\n",
    "    print(\"yor are an adult\")"
   ]
  },
  {
   "cell_type": "code",
   "execution_count": 2,
   "metadata": {},
   "outputs": [
    {
     "name": "stdout",
     "output_type": "stream",
     "text": [
      "number is positive\n",
      "given number is odd\n"
     ]
    }
   ],
   "source": [
    "## Nested conditional statements\n",
    "\n",
    "num=int(input(\"Enter the number\"))\n",
    "\n",
    "if num>0:\n",
    "    print(\"number is positive\")\n",
    "    if num%2==0:\n",
    "        print(\"The number is even\")\n",
    "    else:\n",
    "        print(\"given number is odd\")\n",
    "else:\n",
    "        print(\"number is zero or negative\")\n",
    "        "
   ]
  },
  {
   "cell_type": "code",
   "execution_count": null,
   "metadata": {},
   "outputs": [
    {
     "name": "stdout",
     "output_type": "stream",
     "text": [
      "it's not a leap year\n"
     ]
    }
   ],
   "source": [
    "## practical example\n",
    "\n",
    "## Determine if a year is a leap year using conditional statement\n",
    "\n",
    "\n",
    "mention_year= int(input(\"provide year\"))\n",
    "\n",
    "if mention_year %4==0 :\n",
    "    print(\"it's an leap year\")\n",
    "else:\n",
    "    print(\"it's not a leap year\")\n"
   ]
  },
  {
   "cell_type": "code",
   "execution_count": null,
   "metadata": {},
   "outputs": [
    {
     "name": "stdout",
     "output_type": "stream",
     "text": [
      "2020 is a leap year\n"
     ]
    }
   ],
   "source": [
    "## Determine if a year is a leap year using Nested conditionals:\n",
    "\n",
    "year=int(input(\"Provide year name\"))\n",
    "\n",
    "if year %4==0:\n",
    "    if year %100==0:\n",
    "        if year %400==0:\n",
    "            print(\"It's an leap year\")\n",
    "        else:\n",
    "            print(year, \"not a leap year\")\n",
    "    else:\n",
    "        print(year, \"is a leap year\")\n",
    "else:\n",
    "    print(year, \"It's not a leap year\")\n",
    "        \n"
   ]
  },
  {
   "cell_type": "code",
   "execution_count": 37,
   "metadata": {},
   "outputs": [
    {
     "name": "stdout",
     "output_type": "stream",
     "text": [
      "Result: 188.0\n"
     ]
    }
   ],
   "source": [
    "## simple calculator program with conditional statements. \n",
    "\n",
    "## Take user input \n",
    "\n",
    "value1 = float(input(\"Enter first value here: \"))\n",
    "value12 = float(input(\"Enter second value here: \"))\n",
    "\n",
    "operation = input(\"Enter operation (+, -, *, /): \")\n",
    "\n",
    "# perform the requested operation\n",
    "\n",
    "if operation == '+':\n",
    "    result = value1 + value12\n",
    "elif operation == '-':\n",
    "    result = value1 - value12\n",
    "elif operation == '*':\n",
    "    result = value1 * value12\n",
    "elif operation == '/':\n",
    "    if value12 !=0:\n",
    "        result = value1 / value12\n",
    "    else:\n",
    "        result = \"error! division by zero\"\n",
    "else:\n",
    "    result = \"Invalid operation\"\n",
    "print(\"Result:\", result)"
   ]
  },
  {
   "cell_type": "code",
   "execution_count": null,
   "metadata": {},
   "outputs": [],
   "source": [
    "## Determine the ticket price based on age and whether the person is a student. "
   ]
  }
 ],
 "metadata": {
  "kernelspec": {
   "display_name": "base",
   "language": "python",
   "name": "python3"
  },
  "language_info": {
   "codemirror_mode": {
    "name": "ipython",
    "version": 3
   },
   "file_extension": ".py",
   "mimetype": "text/x-python",
   "name": "python",
   "nbconvert_exporter": "python",
   "pygments_lexer": "ipython3",
   "version": "3.12.7"
  }
 },
 "nbformat": 4,
 "nbformat_minor": 2
}
