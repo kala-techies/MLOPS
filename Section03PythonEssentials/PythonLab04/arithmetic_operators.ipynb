{
 "cells": [
  {
   "cell_type": "code",
   "execution_count": 1,
   "metadata": {},
   "outputs": [
    {
     "name": "stdout",
     "output_type": "stream",
     "text": [
      "18\n"
     ]
    }
   ],
   "source": [
    "## Arithmetic Operator \n",
    "\n",
    "## Addition result\n",
    "\n",
    "a = 10\n",
    "b = 8\n",
    "c = a+b\n",
    "print(a+b)"
   ]
  },
  {
   "cell_type": "code",
   "execution_count": 2,
   "metadata": {},
   "outputs": [
    {
     "name": "stdout",
     "output_type": "stream",
     "text": [
      "9900000\n"
     ]
    }
   ],
   "source": [
    "## subtraction example\n",
    "\n",
    "Assets = 10000000\n",
    "Liabilities = 100000\n",
    "Remaining = Assets-Liabilities\n",
    "print(Remaining)"
   ]
  },
  {
   "cell_type": "code",
   "execution_count": 3,
   "metadata": {},
   "outputs": [
    {
     "name": "stdout",
     "output_type": "stream",
     "text": [
      "300000\n"
     ]
    }
   ],
   "source": [
    "## Multiplication\n",
    "\n",
    "dev = 100000\n",
    "_stage_prod = 3\n",
    "total   = dev * _stage_prod\n",
    "print(total)\n"
   ]
  },
  {
   "cell_type": "code",
   "execution_count": 4,
   "metadata": {},
   "outputs": [
    {
     "name": "stdout",
     "output_type": "stream",
     "text": [
      "125.0\n"
     ]
    }
   ],
   "source": [
    "## division \n",
    "\n",
    "a = 10000\n",
    "b = 80\n",
    "c = a/b\n",
    "print(c)"
   ]
  },
  {
   "cell_type": "code",
   "execution_count": 5,
   "metadata": {},
   "outputs": [
    {
     "name": "stdout",
     "output_type": "stream",
     "text": [
      "125\n"
     ]
    }
   ],
   "source": [
    "## floor div \n",
    "\n",
    "a = 10000\n",
    "b = 80\n",
    "c = a//b\n",
    "print(c)"
   ]
  },
  {
   "cell_type": "code",
   "execution_count": 6,
   "metadata": {},
   "outputs": [
    {
     "name": "stdout",
     "output_type": "stream",
     "text": [
      "37\n"
     ]
    }
   ],
   "source": [
    "## modulus\n",
    "a = 6000\n",
    "b= 89\n",
    "c= a%b\n",
    "print(c) "
   ]
  },
  {
   "cell_type": "code",
   "execution_count": 7,
   "metadata": {},
   "outputs": [
    {
     "name": "stdout",
     "output_type": "stream",
     "text": [
      "387420489000000000000000000\n"
     ]
    }
   ],
   "source": [
    "## exponentiation results \n",
    "\n",
    "a = 900\n",
    "b = 9\n",
    "c = a**b\n",
    "print(c)"
   ]
  },
  {
   "cell_type": "code",
   "execution_count": 8,
   "metadata": {},
   "outputs": [
    {
     "name": "stdout",
     "output_type": "stream",
     "text": [
      "1005\n",
      "993\n",
      "5994\n",
      "166.5\n",
      "166\n",
      "3\n",
      "994014980014994001\n"
     ]
    }
   ],
   "source": [
    "## In a single shot \n",
    "a = 999\n",
    "b = 6\n",
    "\n",
    "\n",
    "add_result=a+b\n",
    "sub_result=a-b\n",
    "multi_result= a*b\n",
    "division_result=a/b\n",
    "floor_result=a//b\n",
    "mod_result=a%b\n",
    "expo_result=a**b\n",
    "\n",
    "\n",
    "print(add_result)\n",
    "print(sub_result)\n",
    "print(multi_result)\n",
    "print(division_result)\n",
    "print(floor_result)\n",
    "print(mod_result)\n",
    "print(expo_result)"
   ]
  },
  {
   "cell_type": "code",
   "execution_count": null,
   "metadata": {},
   "outputs": [],
   "source": []
  }
 ],
 "metadata": {
  "kernelspec": {
   "display_name": "Python 3",
   "language": "python",
   "name": "python3"
  },
  "language_info": {
   "codemirror_mode": {
    "name": "ipython",
    "version": 3
   },
   "file_extension": ".py",
   "mimetype": "text/x-python",
   "name": "python",
   "nbconvert_exporter": "python",
   "pygments_lexer": "ipython3",
   "version": "3.12.7"
  }
 },
 "nbformat": 4,
 "nbformat_minor": 2
}
