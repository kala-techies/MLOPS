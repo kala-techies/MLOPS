{
 "cells": [
  {
   "cell_type": "code",
   "execution_count": null,
   "metadata": {},
   "outputs": [
    {
     "name": "stdout",
     "output_type": "stream",
     "text": [
      "True\n"
     ]
    }
   ],
   "source": [
    "## Logical operator AND, NOT, OR\n",
    "## AND example\n",
    "\n",
    "value1=True\n",
    "value2=True\n",
    "result = value1 and value2\n",
    "print(result)\n",
    "    "
   ]
  },
  {
   "cell_type": "code",
   "execution_count": 4,
   "metadata": {},
   "outputs": [
    {
     "name": "stdout",
     "output_type": "stream",
     "text": [
      "True\n",
      "True\n",
      "True\n",
      "True\n",
      "False\n"
     ]
    }
   ],
   "source": [
    "# OR \n",
    "# either of values is true then result is true\n",
    "## both values or false then result also false \n",
    "\n",
    "num1 = True\n",
    "num2 = False\n",
    "num3 = True\n",
    "num4 = False\n",
    "\n",
    "first_example = num1 or num2\n",
    "second_example = num2 or num3\n",
    "third_example = num3 or num4\n",
    "fourth_example = num4 or num1\n",
    "fifth_example = num4 or num2\n",
    "\n",
    "print(first_example)\n",
    "print(second_example)\n",
    "print(third_example)\n",
    "print(fourth_example)\n",
    "print(fifth_example)"
   ]
  },
  {
   "cell_type": "code",
   "execution_count": null,
   "metadata": {},
   "outputs": [
    {
     "data": {
      "text/plain": [
       "False"
      ]
     },
     "execution_count": 5,
     "metadata": {},
     "output_type": "execute_result"
    }
   ],
   "source": [
    "## Not operator\n",
    "\n",
    "## it's revers to boolean operator\n",
    "## inverse \n",
    "\n",
    "X = True\n",
    "not X"
   ]
  },
  {
   "cell_type": "code",
   "execution_count": 6,
   "metadata": {},
   "outputs": [
    {
     "name": "stdout",
     "output_type": "stream",
     "text": [
      "Additions: 980.0\n",
      "substract:  820.0\n",
      "Multiplication:  72000.0\n",
      "Division:  11.25\n",
      "Floor:  11.0\n",
      "Modulus:  20.0\n",
      "Exponent:  2.1847450052839214e+236\n"
     ]
    }
   ],
   "source": [
    "## simple calculator example with arithmetic operators \n",
    "\n",
    "number1 = float(input(\"Enter first value here: \"))\n",
    "number2 = float(input(\"Enter second value here : \"))\n",
    "\n",
    "addition = number1 + number2\n",
    "subt = number1 - number2\n",
    "multiplication = number1 * number2\n",
    "division = number1 / number2\n",
    "floor = number1 // number2\n",
    "modulus = number1 % number2\n",
    "exponent = number1 ** number2\n",
    "\n",
    "## Results:\n",
    "\n",
    "print(\"Additions:\", addition)\n",
    "print(\"substract: \", subt)\n",
    "print(\"Multiplication: \", multiplication)\n",
    "print(\"Division: \", division)\n",
    "print(\"Floor: \", floor)\n",
    "print(\"Modulus: \", modulus)\n",
    "print(\"Exponent: \", exponent)"
   ]
  },
  {
   "cell_type": "code",
   "execution_count": null,
   "metadata": {},
   "outputs": [],
   "source": []
  }
 ],
 "metadata": {
  "kernelspec": {
   "display_name": "Python 3",
   "language": "python",
   "name": "python3"
  },
  "language_info": {
   "codemirror_mode": {
    "name": "ipython",
    "version": 3
   },
   "file_extension": ".py",
   "mimetype": "text/x-python",
   "name": "python",
   "nbconvert_exporter": "python",
   "pygments_lexer": "ipython3",
   "version": "3.12.7"
  }
 },
 "nbformat": 4,
 "nbformat_minor": 2
}
